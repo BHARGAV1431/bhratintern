{
 "cells": [
  {
   "cell_type": "code",
   "execution_count": 1,
   "id": "8d3a6b17",
   "metadata": {},
   "outputs": [
    {
     "name": "stdout",
     "output_type": "stream",
     "text": [
      "Predicted price for a house with an area of 1200 sqft: 5719.999999999999 thousand\n",
      "Predicted price for a house with an area of 1800 sqft: 7880.0 thousand\n",
      "Predicted price for a house with an area of 2300 sqft: 9680.0 thousand\n",
      "Predicted price for a house with an area of 2800 sqft: 11480.000000000002 thousand\n"
     ]
    }
   ],
   "source": [
    "import numpy as np\n",
    "from sklearn.linear_model import LinearRegression\n",
    "\n",
    "# Sample training data\n",
    "# Features (house area in square feet)\n",
    "X_train = np.array([[1000], [1500], [2000], [2500], [3000]])\n",
    "# Corresponding target values (house prices in thousands)\n",
    "y_train = np.array([5000, 7000, 8000, 11000, 12000])\n",
    "\n",
    "# Create and fit the linear regression model\n",
    "model = LinearRegression()\n",
    "model.fit(X_train, y_train)\n",
    "\n",
    "# Sample test data\n",
    "X_test = np.array([[1200], [1800], [2300], [2800]])\n",
    "\n",
    "# Predict house prices for the test data\n",
    "y_pred = model.predict(X_test)\n",
    "\n",
    "# Print the predicted house prices\n",
    "for i in range(len(X_test)):\n",
    "    print(f\"Predicted price for a house with an area of {X_test[i][0]} sqft: {y_pred[i]} thousand\")"
   ]
  },
  {
   "cell_type": "code",
   "execution_count": null,
   "id": "63e7e28e",
   "metadata": {},
   "outputs": [],
   "source": []
  }
 ],
 "metadata": {
  "kernelspec": {
   "display_name": "Python 3 (ipykernel)",
   "language": "python",
   "name": "python3"
  },
  "language_info": {
   "codemirror_mode": {
    "name": "ipython",
    "version": 3
   },
   "file_extension": ".py",
   "mimetype": "text/x-python",
   "name": "python",
   "nbconvert_exporter": "python",
   "pygments_lexer": "ipython3",
   "version": "3.10.9"
  }
 },
 "nbformat": 4,
 "nbformat_minor": 5
}
